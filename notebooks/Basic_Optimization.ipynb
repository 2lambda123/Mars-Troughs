{
 "cells": [
  {
   "cell_type": "markdown",
   "metadata": {},
   "source": [
    "# Basic Optimization\n",
    "In this notebook I'll optimize a trough model to fit the data."
   ]
  },
  {
   "cell_type": "code",
   "execution_count": 2,
   "metadata": {},
   "outputs": [],
   "source": [
    "import numpy as np\n",
    "import matplotlib.pyplot as plt\n",
    "%matplotlib inline"
   ]
  },
  {
   "cell_type": "code",
   "execution_count": 3,
   "metadata": {},
   "outputs": [
    {
     "name": "stdout",
     "output_type": "stream",
     "text": [
      "Creating a trough object.\n"
     ]
    }
   ],
   "source": [
    "import mars_troughs as mt\n",
    "print(\"Creating a trough object.\")\n",
    "test_acc_params = [1e-8, 5e-9]\n",
    "acc_model_number = 1\n",
    "test_lag_params = [1, 1e-5]\n",
    "lag_model_number = 1\n",
    "errorbar = 100.\n",
    "tr = mt.Trough(test_acc_params, test_lag_params,\n",
    "                acc_model_number, lag_model_number,\n",
    "                errorbar)"
   ]
  },
  {
   "cell_type": "code",
   "execution_count": null,
   "metadata": {},
   "outputs": [],
   "source": []
  }
 ],
 "metadata": {
  "kernelspec": {
   "display_name": "Python 2",
   "language": "python",
   "name": "python2"
  },
  "language_info": {
   "codemirror_mode": {
    "name": "ipython",
    "version": 2
   },
   "file_extension": ".py",
   "mimetype": "text/x-python",
   "name": "python",
   "nbconvert_exporter": "python",
   "pygments_lexer": "ipython2",
   "version": "2.7.13"
  }
 },
 "nbformat": 4,
 "nbformat_minor": 2
}
