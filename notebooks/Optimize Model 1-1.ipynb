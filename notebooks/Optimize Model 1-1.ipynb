{
 "cells": [
  {
   "cell_type": "markdown",
   "metadata": {},
   "source": [
    "# More complex trough models\n",
    "The previous notebooks used the most basic trough model, with a constant lag $l(t) = l_0$ and an accumulation that is a linear function of the insolation $A(t) = aI(t)$. The next most complicated models can either make the lag linear in time or making the accumulation quadratic in insolation: $l(t) = l_0 + l_1t$ and $A(t) = aI + bI^2$."
   ]
  },
  {
   "cell_type": "code",
   "execution_count": 1,
   "metadata": {},
   "outputs": [],
   "source": [
    "import numpy as np\n",
    "import matplotlib.pyplot as plt\n",
    "import mars_troughs as mt\n",
    "import scipy.optimize as op\n",
    "%matplotlib inline"
   ]
  },
  {
   "cell_type": "code",
   "execution_count": 2,
   "metadata": {},
   "outputs": [
    {
     "name": "stdout",
     "output_type": "stream",
     "text": [
      "Creating a trough object.\n"
     ]
    }
   ],
   "source": [
    "print(\"Creating a trough object.\")\n",
    "test_acc_params = [1e-6, 1e-11]\n",
    "acc_model_number = 1\n",
    "test_lag_params = [1, 1e-7]\n",
    "lag_model_number = 1\n",
    "errorbar = 100.\n",
    "tr = mt.Trough(test_acc_params, test_lag_params,\n",
    "                acc_model_number, lag_model_number,\n",
    "                errorbar)"
   ]
  },
  {
   "cell_type": "code",
   "execution_count": 3,
   "metadata": {},
   "outputs": [],
   "source": [
    "#Define the log likelihood\n",
    "def ln_likelihood(params):\n",
    "    variance = params[0]\n",
    "    if variance < 0:\n",
    "        return -1e99\n",
    "    acc_params = np.array([params[1:3]]).flatten()\n",
    "    lag_params = np.array([params[3:5]]).flatten()\n",
    "    tr.set_model(acc_params, lag_params, np.sqrt(variance))\n",
    "    if any(tr.lags_t < 0) or any(tr.lags_t > 20):\n",
    "        #print(\"here\")\n",
    "        #print(tr.lags_t)\n",
    "        return -1e99\n",
    "    tr.compute_splines()\n",
    "    return tr.lnlikelihood()\n",
    "\n",
    "#And the negative of the log likelihood\n",
    "def neg_ln_likelihood(params):\n",
    "    return -ln_likelihood(params)"
   ]
  },
  {
   "cell_type": "code",
   "execution_count": 4,
   "metadata": {},
   "outputs": [
    {
     "name": "stdout",
     "output_type": "stream",
     "text": [
      " final_simplex: (array([[4.07938661e+03, 1.20955378e-06, 1.52409570e-11, 1.37212545e+00,\n",
      "        4.39372947e-08],\n",
      "       [4.07938668e+03, 1.20955378e-06, 1.52409567e-11, 1.37212545e+00,\n",
      "        4.39372963e-08],\n",
      "       [4.07938663e+03, 1.20955378e-06, 1.52409569e-11, 1.37212545e+00,\n",
      "        4.39372952e-08],\n",
      "       [4.07938661e+03, 1.20955378e-06, 1.52409570e-11, 1.37212545e+00,\n",
      "        4.39372947e-08],\n",
      "       [4.07938655e+03, 1.20955378e-06, 1.52409572e-11, 1.37212545e+00,\n",
      "        4.39372932e-08],\n",
      "       [4.07938665e+03, 1.20955378e-06, 1.52409568e-11, 1.37212545e+00,\n",
      "        4.39372956e-08]]), array([74.50839015, 74.50839015, 74.50839015, 74.50839015, 74.50839015,\n",
      "       74.50839015]))\n",
      "           fun: 74.50839015144474\n",
      "       message: 'Optimization terminated successfully.'\n",
      "          nfev: 991\n",
      "           nit: 562\n",
      "        status: 0\n",
      "       success: True\n",
      "             x: array([4.07938661e+03, 1.20955378e-06, 1.52409570e-11, 1.37212545e+00,\n",
      "       4.39372947e-08])\n"
     ]
    }
   ],
   "source": [
    "guess = [errorbar**2, \n",
    "         test_acc_params[0], test_acc_params[1], \n",
    "         test_lag_params[0], test_lag_params[1]]\n",
    "result = op.minimize(neg_ln_likelihood, x0=guess, method='Nelder-Mead')\n",
    "print(result)"
   ]
  },
  {
   "cell_type": "code",
   "execution_count": 5,
   "metadata": {},
   "outputs": [],
   "source": [
    "#Set the model to the best model\n",
    "best = result['x']\n",
    "variance = best[0]\n",
    "acc_params = np.array([best[1:3]]).flatten()\n",
    "lag_params = np.array([best[3:5]]).flatten()\n",
    "tr.set_model(acc_params, lag_params, np.sqrt(variance))"
   ]
  },
  {
   "cell_type": "code",
   "execution_count": 6,
   "metadata": {},
   "outputs": [
    {
     "data": {
      "text/plain": [
       "[<matplotlib.lines.Line2D at 0x181dd41e50>]"
      ]
     },
     "execution_count": 6,
     "metadata": {},
     "output_type": "execute_result"
    },
    {
     "data": {
      "image/png": "[encoded data removed]",
      "text/plain": [
       "<Figure size 432x288 with 1 Axes>"
      ]
     },
     "metadata": {},
     "output_type": "display_data"
    }
   ],
   "source": [
    "#Compare the trajectory with data\n",
    "times = tr.ins_times\n",
    "plt.plot(tr.get_xt(times), tr.get_yt(times))\n",
    "plt.errorbar(tr.xdata, tr.ydata, yerr=tr.errorbar, c='k', marker='.', ls='')\n",
    "xn,yn = tr.get_nearest_points()\n",
    "plt.plot(xn, yn, ls='', marker='o', c='r')"
   ]
  },
  {
   "cell_type": "code",
   "execution_count": null,
   "metadata": {},
   "outputs": [],
   "source": []
  }
 ],
 "metadata": {
  "kernelspec": {
   "display_name": "Python 2",
   "language": "python",
   "name": "python2"
  },
  "language_info": {
   "codemirror_mode": {
    "name": "ipython",
    "version": 2
   },
   "file_extension": ".py",
   "mimetype": "text/x-python",
   "name": "python",
   "nbconvert_exporter": "python",
   "pygments_lexer": "ipython2",
   "version": "2.7.13"
  }
 },
 "nbformat": 4,
 "nbformat_minor": 2
}
